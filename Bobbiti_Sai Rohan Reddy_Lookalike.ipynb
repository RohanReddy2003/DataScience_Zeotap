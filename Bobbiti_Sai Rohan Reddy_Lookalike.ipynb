{
 "cells": [
  {
   "cell_type": "code",
   "execution_count": 3,
   "id": "834a4c34",
   "metadata": {},
   "outputs": [],
   "source": [
    "import numpy as np\n",
    "import pandas as pd\n",
    "import matplotlib.pyplot as plt\n",
    "import seaborn as sns\n",
    "%matplotlib inline"
   ]
  },
  {
   "cell_type": "code",
   "execution_count": 4,
   "id": "576f0e15",
   "metadata": {},
   "outputs": [],
   "source": [
    "customers_df = pd.read_csv(\"Customers.csv\")\n",
    "products_df = pd.read_csv(\"Products.csv\")\n",
    "transactions_df = pd.read_csv(\"Transactions.csv\")"
   ]
  },
  {
   "cell_type": "code",
   "execution_count": 5,
   "id": "c7008e01",
   "metadata": {},
   "outputs": [
    {
     "data": {
      "text/html": [
       "<div>\n",
       "<style scoped>\n",
       "    .dataframe tbody tr th:only-of-type {\n",
       "        vertical-align: middle;\n",
       "    }\n",
       "\n",
       "    .dataframe tbody tr th {\n",
       "        vertical-align: top;\n",
       "    }\n",
       "\n",
       "    .dataframe thead th {\n",
       "        text-align: right;\n",
       "    }\n",
       "</style>\n",
       "<table border=\"1\" class=\"dataframe\">\n",
       "  <thead>\n",
       "    <tr style=\"text-align: right;\">\n",
       "      <th></th>\n",
       "      <th>TransactionID</th>\n",
       "      <th>CustomerID</th>\n",
       "      <th>ProductID</th>\n",
       "      <th>TransactionDate</th>\n",
       "      <th>Quantity</th>\n",
       "      <th>TotalValue</th>\n",
       "      <th>Price_x</th>\n",
       "      <th>ProductName</th>\n",
       "      <th>Category</th>\n",
       "      <th>Price_y</th>\n",
       "      <th>CustomerName</th>\n",
       "      <th>Region</th>\n",
       "      <th>SignupDate</th>\n",
       "    </tr>\n",
       "  </thead>\n",
       "  <tbody>\n",
       "    <tr>\n",
       "      <th>0</th>\n",
       "      <td>T00001</td>\n",
       "      <td>C0199</td>\n",
       "      <td>P067</td>\n",
       "      <td>2024-08-25 12:38:23</td>\n",
       "      <td>1</td>\n",
       "      <td>300.68</td>\n",
       "      <td>300.68</td>\n",
       "      <td>ComfortLiving Bluetooth Speaker</td>\n",
       "      <td>Electronics</td>\n",
       "      <td>300.68</td>\n",
       "      <td>Andrea Jenkins</td>\n",
       "      <td>Europe</td>\n",
       "      <td>2022-12-03</td>\n",
       "    </tr>\n",
       "    <tr>\n",
       "      <th>1</th>\n",
       "      <td>T00761</td>\n",
       "      <td>C0199</td>\n",
       "      <td>P022</td>\n",
       "      <td>2024-10-01 05:57:09</td>\n",
       "      <td>4</td>\n",
       "      <td>550.16</td>\n",
       "      <td>137.54</td>\n",
       "      <td>HomeSense Wall Art</td>\n",
       "      <td>Home Decor</td>\n",
       "      <td>137.54</td>\n",
       "      <td>Andrea Jenkins</td>\n",
       "      <td>Europe</td>\n",
       "      <td>2022-12-03</td>\n",
       "    </tr>\n",
       "    <tr>\n",
       "      <th>2</th>\n",
       "      <td>T00626</td>\n",
       "      <td>C0199</td>\n",
       "      <td>P079</td>\n",
       "      <td>2024-08-17 12:06:08</td>\n",
       "      <td>2</td>\n",
       "      <td>834.74</td>\n",
       "      <td>417.37</td>\n",
       "      <td>ActiveWear Rug</td>\n",
       "      <td>Home Decor</td>\n",
       "      <td>417.37</td>\n",
       "      <td>Andrea Jenkins</td>\n",
       "      <td>Europe</td>\n",
       "      <td>2022-12-03</td>\n",
       "    </tr>\n",
       "    <tr>\n",
       "      <th>3</th>\n",
       "      <td>T00963</td>\n",
       "      <td>C0199</td>\n",
       "      <td>P008</td>\n",
       "      <td>2024-10-26 00:01:58</td>\n",
       "      <td>2</td>\n",
       "      <td>293.70</td>\n",
       "      <td>146.85</td>\n",
       "      <td>BookWorld Bluetooth Speaker</td>\n",
       "      <td>Electronics</td>\n",
       "      <td>146.85</td>\n",
       "      <td>Andrea Jenkins</td>\n",
       "      <td>Europe</td>\n",
       "      <td>2022-12-03</td>\n",
       "    </tr>\n",
       "    <tr>\n",
       "      <th>4</th>\n",
       "      <td>T00112</td>\n",
       "      <td>C0146</td>\n",
       "      <td>P067</td>\n",
       "      <td>2024-05-27 22:23:54</td>\n",
       "      <td>1</td>\n",
       "      <td>300.68</td>\n",
       "      <td>300.68</td>\n",
       "      <td>ComfortLiving Bluetooth Speaker</td>\n",
       "      <td>Electronics</td>\n",
       "      <td>300.68</td>\n",
       "      <td>Brittany Harvey</td>\n",
       "      <td>Asia</td>\n",
       "      <td>2024-09-04</td>\n",
       "    </tr>\n",
       "  </tbody>\n",
       "</table>\n",
       "</div>"
      ],
      "text/plain": [
       "  TransactionID CustomerID ProductID      TransactionDate  Quantity  \\\n",
       "0        T00001      C0199      P067  2024-08-25 12:38:23         1   \n",
       "1        T00761      C0199      P022  2024-10-01 05:57:09         4   \n",
       "2        T00626      C0199      P079  2024-08-17 12:06:08         2   \n",
       "3        T00963      C0199      P008  2024-10-26 00:01:58         2   \n",
       "4        T00112      C0146      P067  2024-05-27 22:23:54         1   \n",
       "\n",
       "   TotalValue  Price_x                      ProductName     Category  Price_y  \\\n",
       "0      300.68   300.68  ComfortLiving Bluetooth Speaker  Electronics   300.68   \n",
       "1      550.16   137.54               HomeSense Wall Art   Home Decor   137.54   \n",
       "2      834.74   417.37                   ActiveWear Rug   Home Decor   417.37   \n",
       "3      293.70   146.85      BookWorld Bluetooth Speaker  Electronics   146.85   \n",
       "4      300.68   300.68  ComfortLiving Bluetooth Speaker  Electronics   300.68   \n",
       "\n",
       "      CustomerName  Region  SignupDate  \n",
       "0   Andrea Jenkins  Europe  2022-12-03  \n",
       "1   Andrea Jenkins  Europe  2022-12-03  \n",
       "2   Andrea Jenkins  Europe  2022-12-03  \n",
       "3   Andrea Jenkins  Europe  2022-12-03  \n",
       "4  Brittany Harvey    Asia  2024-09-04  "
      ]
     },
     "execution_count": 5,
     "metadata": {},
     "output_type": "execute_result"
    }
   ],
   "source": [
    "transactions_products = pd.merge(transactions_df, products_df, on='ProductID', how='inner')\n",
    "full_data = pd.merge(transactions_products, customers_df, on='CustomerID', how='inner')\n",
    "\n",
    "full_data.head()"
   ]
  },
  {
   "cell_type": "code",
   "execution_count": 6,
   "id": "772a44db",
   "metadata": {},
   "outputs": [],
   "source": [
    "from sklearn.preprocessing import StandardScaler\n",
    "from sklearn.metrics.pairwise import cosine_similarity"
   ]
  },
  {
   "cell_type": "code",
   "execution_count": 7,
   "id": "9cbb52aa",
   "metadata": {},
   "outputs": [],
   "source": [
    "# Aggregating customer-level features\n",
    "# Total revenue per customer\n",
    "customer_revenue = full_data.groupby('CustomerID')['TotalValue'].sum()\n",
    "\n",
    "# Average order value (AOV) per customer\n",
    "customer_aov = full_data.groupby('CustomerID')['TotalValue'].mean()\n",
    "\n",
    "# Total transactions per customer\n",
    "customer_transactions = full_data.groupby('CustomerID').size()"
   ]
  },
  {
   "cell_type": "code",
   "execution_count": 8,
   "id": "9f94afbf",
   "metadata": {},
   "outputs": [],
   "source": [
    "# Proportion of purchases in each category\n",
    "category_preferences = pd.pivot_table(\n",
    "    full_data, \n",
    "    values='Quantity', \n",
    "    index='CustomerID', \n",
    "    columns='Category', \n",
    "    aggfunc='sum', \n",
    "    fill_value=0\n",
    ")\n",
    "category_proportions = category_preferences.div(category_preferences.sum(axis=1), axis=0)"
   ]
  },
  {
   "cell_type": "code",
   "execution_count": 9,
   "id": "b2069620",
   "metadata": {},
   "outputs": [],
   "source": [
    "# Merging aggregated features\n",
    "customer_features = pd.concat([customer_revenue, customer_aov, customer_transactions, category_proportions], axis=1)\n",
    "customer_features.columns = ['TotalRevenue', 'AverageOrderValue', 'TransactionCount'] + list(category_preferences.columns)"
   ]
  },
  {
   "cell_type": "code",
   "execution_count": 10,
   "id": "125f8280",
   "metadata": {},
   "outputs": [],
   "source": [
    "# Normalizing features\n",
    "scaler = StandardScaler()\n",
    "customer_features_scaled = scaler.fit_transform(customer_features)\n",
    "customer_features_scaled_df = pd.DataFrame(customer_features_scaled, index=customer_features.index, columns=customer_features.columns)"
   ]
  },
  {
   "cell_type": "code",
   "execution_count": 14,
   "id": "abf88fee",
   "metadata": {},
   "outputs": [
    {
     "data": {
      "text/plain": [
       "array([0.9092192 , 0.90747837, 0.89558195])"
      ]
     },
     "execution_count": 14,
     "metadata": {},
     "output_type": "execute_result"
    }
   ],
   "source": [
    "# Example input customer for similarity matching\n",
    "example_customer_id = customer_features.index[1]\n",
    "example_customer_vector = customer_features_scaled_df.loc[example_customer_id].values.reshape(1, -1)\n",
    "\n",
    "# Calculating cosine similarity\n",
    "similarity_scores = cosine_similarity(example_customer_vector, customer_features_scaled_df).flatten()\n",
    "\n",
    "# Finding top 3 similar customers\n",
    "top_similar_indices = similarity_scores.argsort()[-4:-1][::-1]  # Exclude the input customer itself\n",
    "top_similar_customers = customer_features_scaled_df.iloc[top_similar_indices]\n",
    "similarity_scores[top_similar_indices]"
   ]
  },
  {
   "cell_type": "code",
   "execution_count": 18,
   "id": "45c2383d",
   "metadata": {},
   "outputs": [
    {
     "data": {
      "text/plain": [
       "'Lookalike.csv'"
      ]
     },
     "execution_count": 18,
     "metadata": {},
     "output_type": "execute_result"
    }
   ],
   "source": [
    "import csv\n",
    "\n",
    "# Subset for the first 20 customers (C0001 - C0020)\n",
    "selected_customers = customers_df[customers_df['CustomerID'].isin([f'C{str(i).zfill(4)}' for i in range(1, 21)])]\n",
    "selected_customer_ids = selected_customers['CustomerID']\n",
    "\n",
    "# Compute similarity scores for all selected customers\n",
    "lookalike_map = {}\n",
    "\n",
    "for customer_id in selected_customer_ids:\n",
    "    # Get the vector for the current customer\n",
    "    customer_vector = customer_features_scaled_df.loc[customer_id].values.reshape(1, -1)\n",
    "    \n",
    "    # Calculate cosine similarity\n",
    "    similarity_scores = cosine_similarity(customer_vector, customer_features_scaled_df).flatten()\n",
    "    \n",
    "    # Exclude the customer itself and find the top 3 most similar customers\n",
    "    similarity_scores_df = pd.DataFrame({\n",
    "        'CustomerID': customer_features_scaled_df.index,\n",
    "        'SimilarityScore': similarity_scores\n",
    "    }).set_index('CustomerID')\n",
    "    similarity_scores_df = similarity_scores_df.drop(index=customer_id).sort_values(by='SimilarityScore', ascending=False)\n",
    "    \n",
    "    top_3_similar = similarity_scores_df.head(3)\n",
    "    lookalike_map[customer_id] = list(zip(top_3_similar.index, top_3_similar['SimilarityScore']))\n",
    "\n",
    "# Create \"Lookalike.csv\" file\n",
    "lookalike_file_path = 'Lookalike.csv'\n",
    "with open(lookalike_file_path, mode='w', newline='') as file:\n",
    "    writer = csv.writer(file)\n",
    "    writer.writerow(['CustomerID', 'Lookalikes'])  # Header\n",
    "    \n",
    "    for cust_id, lookalikes in lookalike_map.items():\n",
    "        lookalikes_str = str([{l_id: round(score, 4)} for l_id, score in lookalikes])\n",
    "        writer.writerow([cust_id, lookalikes_str])\n",
    "\n",
    "lookalike_file_path"
   ]
  },
  {
   "cell_type": "code",
   "execution_count": null,
   "id": "6ac5fd62",
   "metadata": {},
   "outputs": [],
   "source": []
  }
 ],
 "metadata": {
  "kernelspec": {
   "display_name": "Python 3 (ipykernel)",
   "language": "python",
   "name": "python3"
  },
  "language_info": {
   "codemirror_mode": {
    "name": "ipython",
    "version": 3
   },
   "file_extension": ".py",
   "mimetype": "text/x-python",
   "name": "python",
   "nbconvert_exporter": "python",
   "pygments_lexer": "ipython3",
   "version": "3.11.5"
  }
 },
 "nbformat": 4,
 "nbformat_minor": 5
}
